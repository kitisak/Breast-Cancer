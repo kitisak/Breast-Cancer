{
 "cells": [
  {
   "cell_type": "code",
   "execution_count": 1,
   "metadata": {
    "ExecuteTime": {
     "end_time": "2017-05-14T12:45:09.609502",
     "start_time": "2017-05-14T12:45:08.432532"
    },
    "collapsed": false
   },
   "outputs": [
    {
     "name": "stderr",
     "output_type": "stream",
     "text": [
      "Using TensorFlow backend.\n"
     ]
    }
   ],
   "source": [
    "from __future__ import division,print_function\n",
    "\n",
    "import os, json\n",
    "from os import walk\n",
    "from glob import glob\n",
    "import pandas as pd\n",
    "import scipy as sp\n",
    "import numpy as np\n",
    "np.set_printoptions(precision=4, linewidth=100)\n",
    "\n",
    "from matplotlib import pyplot as plt\n",
    "import matplotlib.image as mpimg\n",
    "\n",
    "from keras.layers import Dense, GlobalAveragePooling2D\n",
    "from keras.models import Model\n",
    "from keras.optimizers import Adam\n",
    "from keras.applications.inception_v3 import InceptionV3\n",
    "from keras.preprocessing import image\n",
    "\n",
    "from sklearn.metrics import confusion_matrix\n",
    "import itertools\n",
    "\n",
    "%matplotlib inline"
   ]
  },
  {
   "cell_type": "code",
   "execution_count": 2,
   "metadata": {
    "ExecuteTime": {
     "end_time": "2017-05-14T12:45:10.896412",
     "start_time": "2017-05-14T12:45:10.891428"
    },
    "collapsed": true
   },
   "outputs": [],
   "source": [
    "data_path =  '../data1/'\n",
    "\n",
    "fold_no_list = ['fold1', 'fold2', 'fold3' ,'fold4', 'fold5']\n",
    "train_type_list = ['train', 'test']\n",
    "magnif_list = ['40X', '100X', '200X', '400X']\n",
    "lesion_list = ['benign', 'malignant']\n",
    "\n",
    "patch_xsize = 350\n",
    "patch_ysize = 230\n",
    "\n",
    "c_fold = 'fold1'\n",
    "c_magnif = '40X'"
   ]
  },
  {
   "cell_type": "code",
   "execution_count": 3,
   "metadata": {
    "ExecuteTime": {
     "end_time": "2017-05-14T12:45:13.271246",
     "start_time": "2017-05-14T12:45:13.258213"
    },
    "collapsed": false
   },
   "outputs": [],
   "source": [
    "def img_norm(img, y=patch_ysize, x=patch_xsize):\n",
    "    img = sp.misc.imresize(img, (y,x)).astype(np.float)\n",
    "    img -= np.mean(img, axis=2, keepdims=True)\n",
    "    img /= (np.std(img, axis=2, keepdims=True) + 1e-7)\n",
    "    return img\n",
    "\n",
    "def plot_confusion_matrix(cm, classes, normalize=False, title='Confusion matrix', cmap=plt.cm.Blues):\n",
    "    if normalize: cm = cm.astype('float') / cm.sum(axis=1)[:, np.newaxis]\n",
    "        \n",
    "    plt.imshow(cm, interpolation='nearest', cmap=cmap)\n",
    "    plt.title(title)\n",
    "    plt.colorbar()\n",
    "    tick_marks = np.arange(len(classes))\n",
    "    plt.xticks(tick_marks, classes, rotation=45)\n",
    "    plt.yticks(tick_marks, classes)\n",
    "    \n",
    "    thresh = cm.max()/2\n",
    "    for i,j in itertools.product(range(cm.shape[0]), range(cm.shape[1])):\n",
    "        plt.text(j,i, '%.2f'%cm[i,j], horizontalalignment='center', color='white' if cm[i,j]>thresh else 'black')\n",
    "        \n",
    "    #plt.tight_layout()    \n",
    "    plt.ylabel('Ground Truth')\n",
    "    plt.xlabel('Predicted Value')"
   ]
  },
  {
   "cell_type": "markdown",
   "metadata": {
    "heading_collapsed": true
   },
   "source": [
    "# Visualization"
   ]
  },
  {
   "cell_type": "code",
   "execution_count": null,
   "metadata": {
    "ExecuteTime": {
     "end_time": "2017-05-07T21:20:11.775857",
     "start_time": "2017-05-07T21:20:11.564501"
    },
    "collapsed": true,
    "hidden": true
   },
   "outputs": [],
   "source": [
    "img = sp.misc.imread('../data/fold1/train/40X/benign/SOB_B_PT-14-22704-40-001.png')"
   ]
  },
  {
   "cell_type": "code",
   "execution_count": null,
   "metadata": {
    "ExecuteTime": {
     "end_time": "2017-05-07T21:20:12.504056",
     "start_time": "2017-05-07T21:20:12.154234"
    },
    "collapsed": false,
    "hidden": true
   },
   "outputs": [],
   "source": [
    "plt.imshow(img)"
   ]
  },
  {
   "cell_type": "markdown",
   "metadata": {
    "heading_collapsed": true
   },
   "source": [
    "# Organise Training Set"
   ]
  },
  {
   "cell_type": "code",
   "execution_count": null,
   "metadata": {
    "ExecuteTime": {
     "end_time": "2017-05-03T17:14:16.770314",
     "start_time": "2017-05-03T17:14:16.546888"
    },
    "collapsed": false,
    "hidden": true
   },
   "outputs": [],
   "source": [
    "fold_no_list = ['fold1', 'fold2', 'fold3' ,'fold4', 'fold5']\n",
    "train_type_list = ['train', 'test']\n",
    "magnif_list = ['40X', '100X', '200X', '400X']\n",
    "lesion_list = ['benign', 'malignant']\n",
    "\n",
    "for fold_no in fold_no_list:\n",
    "    for train_type in train_type_list:\n",
    "        for magnif in magnif_list:           \n",
    "            for lesion in lesion_list:\n",
    "                my_path = data_path+'{}/{}/{}/{}'.format(fold_no, train_type, magnif, lesion)\n",
    "\n",
    "                if not os.path.exists(my_path):\n",
    "                    os.makedirs(my_path)       \n",
    "            \n",
    "            f = []\n",
    "            my_path2 = data_path+'{}/{}/{}/'.format(fold_no, train_type, magnif)\n",
    "            for (dirpath, dirnames, filenames) in walk(my_path2):\n",
    "                f.extend(filenames)\n",
    "                break    \n",
    "            for file in f:\n",
    "                if file[4] == 'M': \n",
    "                    os.rename(my_path2+file, my_path2+'malignant/' + file)\n",
    "                elif file[4] == 'B': \n",
    "                    os.rename(my_path2+file, my_path2+'benign/' + file)"
   ]
  },
  {
   "cell_type": "markdown",
   "metadata": {
    "heading_collapsed": true
   },
   "source": [
    "# Create patient detail table"
   ]
  },
  {
   "cell_type": "code",
   "execution_count": 4,
   "metadata": {
    "ExecuteTime": {
     "end_time": "2017-05-14T12:45:26.649953",
     "start_time": "2017-05-14T12:45:17.022291"
    },
    "collapsed": false,
    "hidden": true
   },
   "outputs": [],
   "source": [
    "df = pd.DataFrame()\n",
    "for train_type in train_type_list:\n",
    "    for magnif in magnif_list:           \n",
    "        for lesion in lesion_list:\n",
    "            my_path = data_path+c_fold+'/{}/{}/{}'.format(train_type, magnif, lesion)\n",
    "            file_list = []\n",
    "            for (dirpath, dirnames, filenames) in walk(my_path):\n",
    "                file_list.extend(filenames)\n",
    "                break   \n",
    "            for file in file_list:\n",
    "                und_pos = [pos for pos, char in enumerate(file) if char == '_']\n",
    "                dash_pos = [pos for pos, char in enumerate(file) if char == '-']\n",
    "                dot_pos = [pos for pos, char in enumerate(file) if char == '.']\n",
    "                df = df.append({'name': file,\\\n",
    "                            'patient': file[dash_pos[1]+1:dash_pos[2]],\\\n",
    "                            'lesion': lesion,\\\n",
    "                            'magnification':file[dash_pos[2]+1:dash_pos[3]]},\\\n",
    "                            ignore_index=True)"
   ]
  },
  {
   "cell_type": "markdown",
   "metadata": {},
   "source": [
    "# Inception"
   ]
  },
  {
   "cell_type": "code",
   "execution_count": 5,
   "metadata": {
    "ExecuteTime": {
     "end_time": "2017-05-14T12:45:29.515208",
     "start_time": "2017-05-14T12:45:26.650713"
    },
    "collapsed": false
   },
   "outputs": [],
   "source": [
    "base_model = InceptionV3(include_top=False, weights=None, input_shape=(patch_ysize,patch_xsize,3) )"
   ]
  },
  {
   "cell_type": "code",
   "execution_count": 6,
   "metadata": {
    "ExecuteTime": {
     "end_time": "2017-05-14T12:45:29.569170",
     "start_time": "2017-05-14T12:45:29.515988"
    },
    "collapsed": false
   },
   "outputs": [],
   "source": [
    "x = base_model.output\n",
    "x = GlobalAveragePooling2D()(x)\n",
    "predictions = Dense(2, activation='softmax')(x)\n",
    "\n",
    "model = Model(inputs=base_model.input, outputs=predictions)\n",
    "model.compile(optimizer=Adam(), loss='binary_crossentropy', metrics=['binary_accuracy'])"
   ]
  },
  {
   "cell_type": "code",
   "execution_count": 9,
   "metadata": {
    "ExecuteTime": {
     "end_time": "2017-05-14T12:46:30.812907",
     "start_time": "2017-05-14T12:46:30.724260"
    },
    "collapsed": false
   },
   "outputs": [
    {
     "name": "stdout",
     "output_type": "stream",
     "text": [
      "Training Images\n",
      "Found 1250 images belonging to 2 classes.\n",
      "Testing Images\n",
      "Found 745 images belonging to 2 classes.\n"
     ]
    }
   ],
   "source": [
    "batch_size = 16\n",
    "\n",
    "train_datagen = image.ImageDataGenerator(\n",
    "        preprocessing_function=img_norm,\n",
    "        horizontal_flip=True,\n",
    "        vertical_flip = True)\n",
    "\n",
    "test_datagen = image.ImageDataGenerator(preprocessing_function=img_norm)\n",
    "\n",
    "print('Training Images')\n",
    "train_generator = train_datagen.flow_from_directory(\n",
    "        data_path+c_fold+'/train/'+c_magnif,\n",
    "        target_size=(patch_ysize, patch_xsize),\n",
    "        batch_size=batch_size)\n",
    "\n",
    "print('Testing Images')\n",
    "validation_generator = test_datagen.flow_from_directory(\n",
    "        data_path+c_fold+'/test/'+c_magnif,\n",
    "        target_size=(patch_ysize, patch_xsize),\n",
    "        batch_size=batch_size)"
   ]
  },
  {
   "cell_type": "code",
   "execution_count": 10,
   "metadata": {
    "ExecuteTime": {
     "end_time": "2017-05-14T13:00:37.887064",
     "start_time": "2017-05-14T12:51:05.920612"
    },
    "collapsed": false
   },
   "outputs": [
    {
     "name": "stdout",
     "output_type": "stream",
     "text": [
      "Epoch 1/20\n",
      "32s - loss: 0.6527 - binary_accuracy: 0.7925 - val_loss: 1.5769 - val_binary_accuracy: 0.6576\n",
      "Epoch 2/20\n",
      "28s - loss: 0.5409 - binary_accuracy: 0.8030 - val_loss: 0.5705 - val_binary_accuracy: 0.7283\n",
      "Epoch 3/20\n",
      "28s - loss: 0.5749 - binary_accuracy: 0.7709 - val_loss: 2.4450 - val_binary_accuracy: 0.6576\n",
      "Epoch 4/20\n",
      "27s - loss: 0.4638 - binary_accuracy: 0.8198 - val_loss: 1.0541 - val_binary_accuracy: 0.6658\n",
      "Epoch 5/20\n",
      "27s - loss: 0.4095 - binary_accuracy: 0.8254 - val_loss: 0.4617 - val_binary_accuracy: 0.8261\n",
      "Epoch 6/20\n",
      "27s - loss: 0.4004 - binary_accuracy: 0.8333 - val_loss: 0.4857 - val_binary_accuracy: 0.8342\n",
      "Epoch 7/20\n",
      "27s - loss: 0.3838 - binary_accuracy: 0.8437 - val_loss: 1.4122 - val_binary_accuracy: 0.8410\n",
      "Epoch 8/20\n",
      "27s - loss: 0.3731 - binary_accuracy: 0.8517 - val_loss: 1.2608 - val_binary_accuracy: 0.8424\n",
      "Epoch 9/20\n",
      "27s - loss: 0.3903 - binary_accuracy: 0.8414 - val_loss: 0.4947 - val_binary_accuracy: 0.8668\n",
      "Epoch 10/20\n",
      "27s - loss: 0.3582 - binary_accuracy: 0.8630 - val_loss: 1.2408 - val_binary_accuracy: 0.8546\n",
      "Epoch 11/20\n",
      "27s - loss: 0.3870 - binary_accuracy: 0.8517 - val_loss: 3.3831 - val_binary_accuracy: 0.6549\n",
      "Epoch 12/20\n",
      "27s - loss: 0.3727 - binary_accuracy: 0.8485 - val_loss: 0.4174 - val_binary_accuracy: 0.8560\n",
      "Epoch 13/20\n",
      "27s - loss: 0.3312 - binary_accuracy: 0.8670 - val_loss: 0.8289 - val_binary_accuracy: 0.8614\n",
      "Epoch 14/20\n",
      "28s - loss: 0.3787 - binary_accuracy: 0.8549 - val_loss: 0.3737 - val_binary_accuracy: 0.8397\n",
      "Epoch 15/20\n",
      "28s - loss: 0.4002 - binary_accuracy: 0.8429 - val_loss: 0.5848 - val_binary_accuracy: 0.8505\n",
      "Epoch 16/20\n",
      "27s - loss: 0.3240 - binary_accuracy: 0.8654 - val_loss: 0.3948 - val_binary_accuracy: 0.8601\n",
      "Epoch 17/20\n",
      "28s - loss: 0.3659 - binary_accuracy: 0.8558 - val_loss: 0.8367 - val_binary_accuracy: 0.7812\n",
      "Epoch 18/20\n",
      "27s - loss: 0.4441 - binary_accuracy: 0.8398 - val_loss: 9.8565 - val_binary_accuracy: 0.3723\n",
      "Epoch 19/20\n",
      "27s - loss: 0.4499 - binary_accuracy: 0.8414 - val_loss: 1.3057 - val_binary_accuracy: 0.7405\n",
      "Epoch 20/20\n",
      "28s - loss: 0.3859 - binary_accuracy: 0.8646 - val_loss: 0.6686 - val_binary_accuracy: 0.8465\n"
     ]
    },
    {
     "data": {
      "text/plain": [
       "<keras.callbacks.History at 0x7f54b33cb828>"
      ]
     },
     "execution_count": 10,
     "metadata": {},
     "output_type": "execute_result"
    }
   ],
   "source": [
    "model.fit_generator(\n",
    "        train_generator,\n",
    "        steps_per_epoch = int(1250/batch_size),\n",
    "        epochs=20,\n",
    "        validation_data=validation_generator,\n",
    "        validation_steps=int(750/batch_size),\n",
    "        verbose=2)"
   ]
  },
  {
   "cell_type": "code",
   "execution_count": 11,
   "metadata": {
    "ExecuteTime": {
     "end_time": "2017-05-14T13:02:17.160960",
     "start_time": "2017-05-14T13:01:49.906951"
    },
    "collapsed": true
   },
   "outputs": [],
   "source": [
    "for lesion in lesion_list:\n",
    "    df[lesion+'_pred'] = np.nan\n",
    "\n",
    "for lesion in lesion_list:\n",
    "    my_path = data_path+c_fold+'/test/'+c_magnif+'/{}'.format(lesion)\n",
    "    file_list = []\n",
    "    for (dirpath, dirnames, filenames) in walk(my_path):\n",
    "        file_list.extend(filenames)\n",
    "        break   \n",
    "    for file in file_list:\n",
    "        img = sp.misc.imread(data_path+c_fold+'/test/'+c_magnif+'/{}/{}'.format(lesion, file)) \n",
    "        img = img_norm(img)\n",
    "        img = np.expand_dims(img, axis=0)\n",
    "        \n",
    "        df.loc[df['name']==file, [lesion+'_pred' for lesion in lesion_list]] = model.predict(img, batch_size=1, verbose=0)[0]"
   ]
  },
  {
   "cell_type": "code",
   "execution_count": 12,
   "metadata": {
    "ExecuteTime": {
     "end_time": "2017-05-14T13:02:17.531860",
     "start_time": "2017-05-14T13:02:17.161620"
    },
    "collapsed": true
   },
   "outputs": [],
   "source": [
    "df2 = df.copy()\n",
    "df2 = df2.dropna(axis=0, how='any')\n",
    "\n",
    "for lesion in lesion_list:\n",
    "    df2[lesion+'_int_pred'] = 1*(lesion+'_pred' == df2[[lesion+'_pred' for lesion in lesion_list]].idxmax(axis=1))   \n",
    "    \n",
    "df2['lesion_pred'] = np.nan\n",
    "for index, row in df2.iterrows():\n",
    "    for lesion in lesion_list:\n",
    "        if row[lesion+'_int_pred'] == 1:\n",
    "            df2.loc[index, 'lesion_pred'] = lesion"
   ]
  },
  {
   "cell_type": "code",
   "execution_count": 13,
   "metadata": {
    "ExecuteTime": {
     "end_time": "2017-05-14T13:02:17.664671",
     "start_time": "2017-05-14T13:02:17.532593"
    },
    "collapsed": false
   },
   "outputs": [
    {
     "data": {
      "image/png": "[encoded data removed]",
      "text/plain": [
       "<matplotlib.figure.Figure at 0x7f54a498ba20>"
      ]
     },
     "metadata": {},
     "output_type": "display_data"
    }
   ],
   "source": [
    "y_test = df2['lesion']\n",
    "y_pred = df2['lesion_pred']\n",
    "\n",
    "cm = confusion_matrix(y_test, y_pred)\n",
    "plot_confusion_matrix(cm, classes=lesion_list, normalize=True, title='Normalized confusion matrix')"
   ]
  },
  {
   "cell_type": "code",
   "execution_count": null,
   "metadata": {
    "collapsed": true
   },
   "outputs": [],
   "source": []
  }
 ],
 "metadata": {
  "anaconda-cloud": {},
  "kernelspec": {
   "display_name": "Python 3",
   "language": "python",
   "name": "python3"
  },
  "language_info": {
   "codemirror_mode": {
    "name": "ipython",
    "version": 3
   },
   "file_extension": ".py",
   "mimetype": "text/x-python",
   "name": "python",
   "nbconvert_exporter": "python",
   "pygments_lexer": "ipython3",
   "version": "3.6.0"
  },
  "nav_menu": {},
  "nbpresent": {
   "slides": {
    "28b43202-5690-4169-9aca-6b9dabfeb3ec": {
     "id": "28b43202-5690-4169-9aca-6b9dabfeb3ec",
     "prev": null,
     "regions": {
      "3bba644a-cf4d-4a49-9fbd-e2554428cf9f": {
       "attrs": {
        "height": 0.8,
        "width": 0.8,
        "x": 0.1,
        "y": 0.1
       },
       "content": {
        "cell": "f3d3a388-7e2a-4151-9b50-c20498fceacc",
        "part": "whole"
       },
       "id": "3bba644a-cf4d-4a49-9fbd-e2554428cf9f"
      }
     }
    },
    "8104def2-4b68-44a0-8f1b-b03bf3b2a079": {
     "id": "8104def2-4b68-44a0-8f1b-b03bf3b2a079",
     "prev": "28b43202-5690-4169-9aca-6b9dabfeb3ec",
     "regions": {
      "7dded777-1ddf-4100-99ae-25cf1c15b575": {
       "attrs": {
        "height": 0.8,
        "width": 0.8,
        "x": 0.1,
        "y": 0.1
       },
       "content": {
        "cell": "fe47bd48-3414-4657-92e7-8b8d6cb0df00",
        "part": "whole"
       },
       "id": "7dded777-1ddf-4100-99ae-25cf1c15b575"
      }
     }
    }
   },
   "themes": {}
  },
  "toc": {
   "navigate_menu": true,
   "number_sections": true,
   "sideBar": true,
   "threshold": 6,
   "toc_cell": false,
   "toc_section_display": "block",
   "toc_window_display": false
  }
 },
 "nbformat": 4,
 "nbformat_minor": 0
}
